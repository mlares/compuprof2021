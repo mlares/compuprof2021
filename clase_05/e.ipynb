{
 "cells": [
  {
   "cell_type": "markdown",
   "id": "collective-burning",
   "metadata": {},
   "source": [
    "### Cálculo de e"
   ]
  },
  {
   "cell_type": "code",
   "execution_count": 37,
   "id": "driven-advocacy",
   "metadata": {},
   "outputs": [],
   "source": [
    "import math"
   ]
  },
  {
   "cell_type": "code",
   "execution_count": 38,
   "id": "confident-enhancement",
   "metadata": {},
   "outputs": [
    {
     "name": "stdout",
     "output_type": "stream",
     "text": [
      "2.718281828459045\n"
     ]
    }
   ],
   "source": [
    "print(math.e)"
   ]
  },
  {
   "cell_type": "code",
   "execution_count": 64,
   "id": "smooth-reputation",
   "metadata": {},
   "outputs": [
    {
     "name": "stdout",
     "output_type": "stream",
     "text": [
      "CPU times: user 1e+03 ns, sys: 1 µs, total: 2 µs\n",
      "Wall time: 3.58 µs\n"
     ]
    }
   ],
   "source": [
    "%time\n",
    "e_aprox = 0.\n",
    "N = 100\n",
    "\n",
    "for i in range(N):\n",
    "    e_aprox = e_aprox + 1/math.factorial(i)"
   ]
  },
  {
   "cell_type": "code",
   "execution_count": 40,
   "id": "bound-mouth",
   "metadata": {},
   "outputs": [
    {
     "name": "stdout",
     "output_type": "stream",
     "text": [
      "2.7182818284590455\n",
      "4.440892098500626e-16\n"
     ]
    }
   ],
   "source": [
    "print(e_aprox)\n",
    "print(e_aprox-math.e)"
   ]
  },
  {
   "cell_type": "code",
   "execution_count": 63,
   "id": "after-sharing",
   "metadata": {},
   "outputs": [
    {
     "name": "stdout",
     "output_type": "stream",
     "text": [
      "CPU times: user 2 µs, sys: 0 ns, total: 2 µs\n",
      "Wall time: 3.1 µs\n"
     ]
    }
   ],
   "source": [
    "%time\n",
    "e_aprox = 0.\n",
    "N = 100\n",
    "\n",
    "for i in range(N):\n",
    "    j = N-i-1\n",
    "    e_aprox = e_aprox + 1/math.factorial(j)"
   ]
  },
  {
   "cell_type": "code",
   "execution_count": 42,
   "id": "disabled-serum",
   "metadata": {},
   "outputs": [
    {
     "name": "stdout",
     "output_type": "stream",
     "text": [
      "2.718281828459045\n",
      "0.0\n"
     ]
    }
   ],
   "source": [
    "print(e_aprox)\n",
    "print(e_aprox-math.e)"
   ]
  },
  {
   "cell_type": "code",
   "execution_count": null,
   "id": "bearing-committee",
   "metadata": {},
   "outputs": [],
   "source": []
  },
  {
   "cell_type": "code",
   "execution_count": 61,
   "id": "composite-lecture",
   "metadata": {},
   "outputs": [
    {
     "name": "stdout",
     "output_type": "stream",
     "text": [
      "CPU times: user 1 µs, sys: 0 ns, total: 1 µs\n",
      "Wall time: 2.86 µs\n"
     ]
    }
   ],
   "source": [
    "%time\n",
    "e_aprox = 1.\n",
    "N = 100\n",
    "\n",
    "f = 1\n",
    "for i in range(1,N):\n",
    "    f = f*i\n",
    "    e_aprox = e_aprox + 1/f    "
   ]
  },
  {
   "cell_type": "code",
   "execution_count": 50,
   "id": "supported-potential",
   "metadata": {},
   "outputs": [
    {
     "name": "stdout",
     "output_type": "stream",
     "text": [
      "2.7182818284590455\n",
      "4.440892098500626e-16\n"
     ]
    }
   ],
   "source": [
    "print(e_aprox)\n",
    "print(e_aprox-math.e)"
   ]
  },
  {
   "cell_type": "code",
   "execution_count": 62,
   "id": "sufficient-hunter",
   "metadata": {},
   "outputs": [
    {
     "name": "stdout",
     "output_type": "stream",
     "text": [
      "CPU times: user 1e+03 ns, sys: 0 ns, total: 1e+03 ns\n",
      "Wall time: 2.62 µs\n"
     ]
    }
   ],
   "source": [
    "%time\n",
    "e_aprox = 1.\n",
    "N = 100\n",
    "\n",
    "for i in range(1,N-1):\n",
    "    j = N-i-1\n",
    "    e_aprox = e_aprox + 1/math.factorial(j)"
   ]
  },
  {
   "cell_type": "code",
   "execution_count": 59,
   "id": "visible-period",
   "metadata": {},
   "outputs": [
    {
     "name": "stdout",
     "output_type": "stream",
     "text": [
      "2.7182818284590455\n"
     ]
    }
   ],
   "source": [
    "print(e_aprox)"
   ]
  },
  {
   "cell_type": "code",
   "execution_count": null,
   "id": "owned-warren",
   "metadata": {},
   "outputs": [],
   "source": []
  },
  {
   "cell_type": "code",
   "execution_count": 73,
   "id": "general-sympathy",
   "metadata": {},
   "outputs": [],
   "source": [
    "def e_aprox_1(N):\n",
    "    e_aprox = 0.\n",
    "\n",
    "    for i in range(N):\n",
    "        e_aprox = e_aprox + 1/math.factorial(i)\n",
    "    return e_aprox"
   ]
  },
  {
   "cell_type": "code",
   "execution_count": 74,
   "id": "third-performer",
   "metadata": {},
   "outputs": [],
   "source": [
    "def e_aprox_2(N):\n",
    "    e_aprox = 0.\n",
    "\n",
    "    for i in range(N):\n",
    "        j = N-i-1\n",
    "        e_aprox = e_aprox + 1/math.factorial(j)\n",
    "    return e_aprox"
   ]
  },
  {
   "cell_type": "code",
   "execution_count": 75,
   "id": "floppy-projector",
   "metadata": {},
   "outputs": [],
   "source": [
    "def e_aprox_3(N):\n",
    "    e_aprox = 1.\n",
    "\n",
    "    for i in range(1,N-1):\n",
    "        j = N-i-1\n",
    "        e_aprox = e_aprox + 1/math.factorial(j)\n",
    "    return e_aprox"
   ]
  },
  {
   "cell_type": "code",
   "execution_count": 82,
   "id": "bizarre-lobby",
   "metadata": {},
   "outputs": [
    {
     "name": "stdout",
     "output_type": "stream",
     "text": [
      "CPU times: user 2 µs, sys: 0 ns, total: 2 µs\n",
      "Wall time: 2.86 µs\n"
     ]
    }
   ],
   "source": [
    "%time\n",
    "for _ in range(1000):\n",
    "    e_aprox_1(1000)"
   ]
  },
  {
   "cell_type": "code",
   "execution_count": 83,
   "id": "black-origin",
   "metadata": {},
   "outputs": [
    {
     "name": "stdout",
     "output_type": "stream",
     "text": [
      "CPU times: user 2 µs, sys: 0 ns, total: 2 µs\n",
      "Wall time: 3.34 µs\n"
     ]
    }
   ],
   "source": [
    "%time\n",
    "for _ in range(1000):\n",
    "    e_aprox_2(1000)"
   ]
  },
  {
   "cell_type": "code",
   "execution_count": 84,
   "id": "eight-nickname",
   "metadata": {},
   "outputs": [
    {
     "name": "stdout",
     "output_type": "stream",
     "text": [
      "CPU times: user 2 µs, sys: 0 ns, total: 2 µs\n",
      "Wall time: 2.86 µs\n"
     ]
    }
   ],
   "source": [
    "%time\n",
    "for _ in range(1000):\n",
    "    e_aprox_3(1000)"
   ]
  },
  {
   "cell_type": "code",
   "execution_count": null,
   "id": "seventh-copper",
   "metadata": {},
   "outputs": [],
   "source": []
  }
 ],
 "metadata": {
  "kernelspec": {
   "display_name": "Python 3",
   "language": "python",
   "name": "python3"
  },
  "language_info": {
   "codemirror_mode": {
    "name": "ipython",
    "version": 3
   },
   "file_extension": ".py",
   "mimetype": "text/x-python",
   "name": "python",
   "nbconvert_exporter": "python",
   "pygments_lexer": "ipython3",
   "version": "3.8.5"
  }
 },
 "nbformat": 4,
 "nbformat_minor": 5
}
